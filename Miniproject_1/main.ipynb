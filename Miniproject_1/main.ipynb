{
 "cells": [
  {
   "cell_type": "code",
   "execution_count": 1,
   "metadata": {},
   "outputs": [],
   "source": [
    "import torch\n",
    "\n",
    "import matplotlib.pyplot as plt\n",
    "import matplotlib.image as mpimg\n",
    "\n",
    "import time\n",
    "from model import Model\n"
   ]
  },
  {
   "cell_type": "code",
   "execution_count": 2,
   "metadata": {},
   "outputs": [],
   "source": [
    "# EXTRACT IMAGES\n",
    "\n",
    "noisy_imgs_1 , noisy_imgs_2 = torch.load('train_data.pkl')\n",
    "noisy_imgs , clean_imgs = torch.load ('val_data.pkl')\n",
    "\n",
    "imgs_1 = noisy_imgs_1[0:10000]/255\n",
    "imgs_2 = noisy_imgs_2[0:10000]/255\n",
    "\n",
    "noisy_imgs = noisy_imgs/255\n",
    "clean_imgs = clean_imgs/255\n"
   ]
  },
  {
   "cell_type": "code",
   "execution_count": 5,
   "metadata": {},
   "outputs": [],
   "source": [
    "# CHECK PSNR\n",
    "\n",
    "def psnr ( denoised , ground_truth ) :\n",
    "        # Peak Signal to Noise Ratio : denoised and ground_truth have range [0 , 1]\n",
    "        mse = torch.mean (( denoised - ground_truth ) ** 2)\n",
    "        return -10 * torch.log10 ( mse + 10** -8)"
   ]
  },
  {
   "cell_type": "code",
   "execution_count": 4,
   "metadata": {},
   "outputs": [
    {
     "name": "stderr",
     "output_type": "stream",
     "text": [
      "/Users/antoine/opt/anaconda3/envs/deep_learning_env/lib/python3.9/site-packages/torch/nn/functional.py:1806: UserWarning: nn.functional.sigmoid is deprecated. Use torch.sigmoid instead.\n",
      "  warnings.warn(\"nn.functional.sigmoid is deprecated. Use torch.sigmoid instead.\")\n"
     ]
    },
    {
     "name": "stdout",
     "output_type": "stream",
     "text": [
      "0 0.752284862101078\n",
      "1 0.5856117606163025\n",
      "2 0.4601350501179695\n",
      "3 0.4468471333384514\n",
      "4 0.4015183113515377\n",
      "5 0.3477399554103613\n",
      "6 0.30380979180336\n",
      "7 0.2742416877299547\n",
      "8 0.26306044682860374\n",
      "9 0.2565543223172426\n",
      "10 0.25794925913214684\n",
      "11 0.2481138426810503\n",
      "12 0.33737425692379475\n",
      "13 0.27977192774415016\n",
      "14 0.2416981402784586\n",
      "15 0.22213758155703545\n",
      "16 0.2083111647516489\n",
      "17 0.21478890255093575\n",
      "18 0.21240655332803726\n",
      "19 0.2149027306586504\n",
      "20 0.21183370426297188\n",
      "21 0.19699090532958508\n",
      "22 0.19215546362102032\n",
      "23 0.19085319712758064\n",
      "24 0.1893174722790718\n",
      "25 0.18965934589505196\n",
      "26 0.18301177769899368\n",
      "27 0.19539452716708183\n",
      "28 0.18796938471496105\n",
      "29 0.18356844782829285\n",
      "30 0.17858144640922546\n",
      "31 0.1983351707458496\n",
      "32 0.2651034127920866\n",
      "33 0.22727517411112785\n",
      "34 0.19835554622113705\n",
      "35 0.18676480278372765\n",
      "36 0.17999887466430664\n",
      "37 0.17455746605992317\n",
      "38 0.17491069249808788\n",
      "39 0.17098435200750828\n",
      "40 0.17557472921907902\n",
      "41 0.17688127607107162\n",
      "42 0.17402906343340874\n",
      "43 0.18930570781230927\n",
      "44 0.1986687947064638\n",
      "45 0.18151971139013767\n",
      "46 0.17374305054545403\n",
      "47 0.16865654289722443\n",
      "48 0.16588156297802925\n",
      "49 0.17267186008393764\n",
      "50 0.18222392350435257\n",
      "51 0.17111717350780964\n",
      "52 0.16517088934779167\n",
      "53 0.17730763461440802\n",
      "54 0.17783889546990395\n",
      "55 0.17502329126000404\n",
      "56 0.1710210107266903\n",
      "57 0.17991703748703003\n",
      "58 0.16850695759058\n",
      "59 0.16310992557555437\n",
      "60 0.16802940145134926\n",
      "61 0.17176288645714521\n",
      "62 0.16622821986675262\n",
      "63 0.16662477888166904\n",
      "64 0.1693558655679226\n",
      "65 0.17353652603924274\n",
      "66 0.17031355947256088\n",
      "67 0.1645699804648757\n",
      "68 0.16099996771663427\n",
      "69 0.15960615780204535\n",
      "70 0.1601327769458294\n",
      "71 0.15850016567856073\n",
      "72 0.17769721150398254\n",
      "73 0.17370682954788208\n",
      "74 0.16738919727504253\n",
      "75 0.16145738307386637\n",
      "76 0.1626723650842905\n",
      "77 0.16681606229394674\n",
      "78 0.18060322105884552\n",
      "79 0.1806170456111431\n",
      "80 0.1665283665060997\n",
      "81 0.16097529977560043\n",
      "82 0.1584214400500059\n",
      "83 0.1575149642303586\n",
      "84 0.15846642199903727\n",
      "85 0.16124510765075684\n",
      "86 0.15885703172534704\n",
      "87 0.15870926436036825\n",
      "88 0.16029404662549496\n",
      "89 0.16218024771660566\n",
      "90 0.15972951520234346\n",
      "91 0.15734878834336996\n",
      "92 0.15807846467942\n",
      "93 0.16161771677434444\n",
      "94 0.16035633254796267\n",
      "95 0.15888745617121458\n",
      "96 0.15848895721137524\n",
      "97 0.1580250719562173\n",
      "98 0.15785481873899698\n",
      "99 0.15640246402472258\n"
     ]
    }
   ],
   "source": [
    "\n",
    "model = Model()\n",
    "\n",
    "model.train(imgs_1, imgs_2)\n"
   ]
  },
  {
   "cell_type": "markdown",
   "metadata": {},
   "source": [
    "14.2835"
   ]
  },
  {
   "cell_type": "code",
   "execution_count": 10,
   "metadata": {},
   "outputs": [
    {
     "name": "stdout",
     "output_type": "stream",
     "text": [
      "psnr tensor(11.6571, grad_fn=<MulBackward0>)\n"
     ]
    },
    {
     "name": "stderr",
     "output_type": "stream",
     "text": [
      "/Users/antoine/opt/anaconda3/envs/deep_learning_env/lib/python3.9/site-packages/torch/nn/functional.py:1806: UserWarning: nn.functional.sigmoid is deprecated. Use torch.sigmoid instead.\n",
      "  warnings.warn(\"nn.functional.sigmoid is deprecated. Use torch.sigmoid instead.\")\n"
     ]
    }
   ],
   "source": [
    "out = model.predict(noisy_imgs)\n",
    "\n",
    "img_denoise_psnr = psnr(out ,clean_imgs)\n",
    "\n",
    "print(\"psnr\", img_denoise_psnr)"
   ]
  },
  {
   "cell_type": "code",
   "execution_count": 11,
   "metadata": {},
   "outputs": [],
   "source": [
    "# SAVE BEST MODEL\n",
    "\n",
    "def save_model() -> None :\n",
    "    torch.save(model.autoenc.state_dict(), 'bestmodel.pth')\n",
    "    pass\n",
    "\n",
    "save_model()\n"
   ]
  },
  {
   "cell_type": "code",
   "execution_count": 17,
   "metadata": {},
   "outputs": [
    {
     "data": {
      "text/plain": [
       "Text(0.5, 1.0, 'predict')"
      ]
     },
     "execution_count": 17,
     "metadata": {},
     "output_type": "execute_result"
    },
    {
     "data": {
      "image/png": "[encoded data removed]",
      "text/plain": [
       "<Figure size 432x288 with 3 Axes>"
      ]
     },
     "metadata": {
      "needs_background": "light"
     },
     "output_type": "display_data"
    }
   ],
   "source": [
    "# AFFICHAGE\n",
    "\n",
    "fig, axs = plt.subplots(1,3)\n",
    "axs[0].imshow(noisy_imgs [1].permute(1,2,0))\n",
    "axs[0].set_title('noisy')\n",
    "axs[1].imshow(clean_imgs[1].permute(1,2,0))\n",
    "axs[0].set_title('clean')\n",
    "axs[2].imshow(out[1].permute(1,2,0).detach())\n",
    "axs[0].set_title('predict')\n"
   ]
  },
  {
   "cell_type": "code",
   "execution_count": 12,
   "metadata": {},
   "outputs": [
    {
     "name": "stdout",
     "output_type": "stream",
     "text": [
      "psnr tensor(11.6571, grad_fn=<MulBackward0>)\n"
     ]
    }
   ],
   "source": [
    "\n",
    "model = Model()\n",
    "\n",
    "model.load_pretrained_model()\n",
    "\n",
    "out = model.predict(noisy_imgs)\n",
    "\n",
    "img_denoise_psnr = psnr(out ,clean_imgs)\n",
    "\n",
    "print(\"psnr\", img_denoise_psnr)\n"
   ]
  }
 ],
 "metadata": {
  "kernelspec": {
   "display_name": "Python 3 (ipykernel)",
   "language": "python",
   "name": "python3"
  },
  "language_info": {
   "codemirror_mode": {
    "name": "ipython",
    "version": 3
   },
   "file_extension": ".py",
   "mimetype": "text/x-python",
   "name": "python",
   "nbconvert_exporter": "python",
   "pygments_lexer": "ipython3",
   "version": "3.9.7"
  }
 },
 "nbformat": 4,
 "nbformat_minor": 2
}
