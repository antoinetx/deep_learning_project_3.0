{
 "cells": [
  {
   "cell_type": "code",
   "execution_count": 1,
   "metadata": {},
   "outputs": [],
   "source": [
    "import torch\n",
    "\n",
    "import matplotlib.pyplot as plt\n",
    "import matplotlib.image as mpimg\n",
    "\n",
    "import time\n",
    "from model import Model\n"
   ]
  },
  {
   "cell_type": "code",
   "execution_count": 2,
   "metadata": {},
   "outputs": [],
   "source": [
    "# EXTRACT IMAGES\n",
    "\n",
    "noisy_imgs_1 , noisy_imgs_2 = torch.load('train_data.pkl')\n",
    "noisy_imgs , clean_imgs = torch.load ('val_data.pkl')\n",
    "\n",
    "imgs_1 = noisy_imgs_1[0:10000]/255\n",
    "imgs_2 = noisy_imgs_2[0:10000]/255\n",
    "\n",
    "noisy_imgs = noisy_imgs/255\n",
    "clean_imgs = clean_imgs/255\n"
   ]
  },
  {
   "cell_type": "code",
   "execution_count": 3,
   "metadata": {},
   "outputs": [],
   "source": [
    "# CHECK PSNR\n",
    "\n",
    "def psnr ( denoised , ground_truth ) :\n",
    "        # Peak Signal to Noise Ratio : denoised and ground_truth have range [0 , 1]\n",
    "        mse = torch.mean (( denoised - ground_truth ) ** 2)\n",
    "        return -10 * torch.log10 ( mse + 10** -8)"
   ]
  },
  {
   "cell_type": "code",
   "execution_count": 4,
   "metadata": {},
   "outputs": [
    {
     "name": "stderr",
     "output_type": "stream",
     "text": [
      "/Users/antoine/opt/anaconda3/envs/deep_learning_env/lib/python3.9/site-packages/torch/nn/functional.py:3509: UserWarning: nn.functional.upsample is deprecated. Use nn.functional.interpolate instead.\n",
      "  warnings.warn(\"nn.functional.upsample is deprecated. Use nn.functional.interpolate instead.\")\n",
      "/Users/antoine/opt/anaconda3/envs/deep_learning_env/lib/python3.9/site-packages/torch/nn/functional.py:1806: UserWarning: nn.functional.sigmoid is deprecated. Use torch.sigmoid instead.\n",
      "  warnings.warn(\"nn.functional.sigmoid is deprecated. Use torch.sigmoid instead.\")\n"
     ]
    },
    {
     "name": "stdout",
     "output_type": "stream",
     "text": [
      "0 0.7430942133069038\n",
      "1 0.6611754707992077\n",
      "2 0.5486929044127464\n",
      "3 0.4994046092033386\n",
      "4 0.4653783328831196\n",
      "5 0.45014963299036026\n",
      "6 0.42430685460567474\n",
      "7 0.41536951810121536\n",
      "8 0.3943965248763561\n",
      "9 0.3820047937333584\n",
      "10 0.3898463621735573\n",
      "11 0.3817599192261696\n",
      "12 0.3684392459690571\n",
      "13 0.382913738489151\n",
      "14 0.3684685528278351\n",
      "15 0.3588903956115246\n",
      "16 0.3539947271347046\n",
      "17 0.35089317709207535\n",
      "18 0.34649696573615074\n",
      "19 0.35852281749248505\n",
      "20 0.34145987033843994\n",
      "21 0.3452039249241352\n",
      "22 0.3349998742341995\n",
      "23 0.331546314060688\n",
      "24 0.3575901985168457\n",
      "25 0.34374580904841423\n",
      "26 0.33232608437538147\n",
      "27 0.3268747664988041\n",
      "28 0.34044415690004826\n",
      "29 0.34349125623703003\n",
      "30 0.32843635976314545\n",
      "31 0.32457741163671017\n",
      "32 0.32601880468428135\n",
      "33 0.3193622622638941\n",
      "34 0.3240887578576803\n",
      "35 0.31817460246384144\n",
      "36 0.3202759828418493\n",
      "37 0.3201843034476042\n",
      "38 0.315260112285614\n",
      "39 0.3311557322740555\n"
     ]
    }
   ],
   "source": [
    "\n",
    "model = Model()\n",
    "\n",
    "model.train(imgs_1, imgs_2)\n"
   ]
  },
  {
   "cell_type": "code",
   "execution_count": 8,
   "metadata": {},
   "outputs": [
    {
     "name": "stdout",
     "output_type": "stream",
     "text": [
      "psnr tensor(16.7033, grad_fn=<MulBackward0>)\n"
     ]
    }
   ],
   "source": [
    "out = model.predict(noisy_imgs)\n",
    "\n",
    "img_denoise_psnr = psnr(out ,clean_imgs)\n",
    "\n",
    "print(\"psnr\", img_denoise_psnr)"
   ]
  },
  {
   "cell_type": "code",
   "execution_count": 6,
   "metadata": {},
   "outputs": [],
   "source": [
    "# SAVE BEST MODEL\n",
    "\n",
    "def save_model() -> None :\n",
    "    torch.save(model.autoenc.state_dict(), 'bestmodel.pth')\n",
    "    pass\n",
    "\n",
    "save_model()\n"
   ]
  },
  {
   "cell_type": "code",
   "execution_count": 7,
   "metadata": {},
   "outputs": [
    {
     "data": {
      "image/png": "[encoded data removed]",
      "text/plain": [
       "<Figure size 432x288 with 1 Axes>"
      ]
     },
     "metadata": {
      "needs_background": "light"
     },
     "output_type": "display_data"
    },
    {
     "data": {
      "image/png": "[encoded data removed]",
      "text/plain": [
       "<Figure size 432x288 with 1 Axes>"
      ]
     },
     "metadata": {
      "needs_background": "light"
     },
     "output_type": "display_data"
    }
   ],
   "source": [
    "# AFFICHAGE\n",
    "\n",
    "plt.imshow(clean_imgs[1].permute(1,2,0))\n",
    "plt.show()\n",
    "plt.imshow(out[1].permute(1,2,0).detach())\n",
    "plt.show()"
   ]
  }
 ],
 "metadata": {
  "kernelspec": {
   "display_name": "Python 3",
   "language": "python",
   "name": "python3"
  },
  "language_info": {
   "codemirror_mode": {
    "name": "ipython",
    "version": 3
   },
   "file_extension": ".py",
   "mimetype": "text/x-python",
   "name": "python",
   "nbconvert_exporter": "python",
   "pygments_lexer": "ipython3",
   "version": "3.8.8"
  }
 },
 "nbformat": 4,
 "nbformat_minor": 2
}
