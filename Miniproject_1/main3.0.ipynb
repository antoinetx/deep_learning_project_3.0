{
 "cells": [
  {
   "cell_type": "code",
   "execution_count": 1,
   "metadata": {},
   "outputs": [],
   "source": [
    "import torch\n",
    "from torch import nn\n",
    "from torch.nn import functional as F\n",
    "from torch import optim\n",
    "\n",
    "import matplotlib.pyplot as plt\n",
    "import matplotlib.image as mpimg\n",
    "\n",
    "import time\n",
    "\n"
   ]
  },
  {
   "cell_type": "code",
   "execution_count": 2,
   "metadata": {},
   "outputs": [],
   "source": [
    "# Put on GPU\n",
    "\n",
    "device = torch.device (\"cuda\" if torch.cuda.is_available() else \"cpu\")"
   ]
  },
  {
   "cell_type": "code",
   "execution_count": 3,
   "metadata": {},
   "outputs": [
    {
     "name": "stdout",
     "output_type": "stream",
     "text": [
      "torch.Size([50000, 3, 32, 32])\n"
     ]
    }
   ],
   "source": [
    "# Extract images\n",
    "\n",
    "noisy_imgs_1 , noisy_imgs_2 = torch.load('data/train_data.pkl')\n",
    "noisy_imgs , clean_imgs = torch.load ('data/val_data.pkl')\n",
    "\n",
    "noisy_imgs = noisy_imgs/255\n",
    "clean_imgs = clean_imgs/255\n",
    "\n",
    "print(noisy_imgs_1.size())\n"
   ]
  },
  {
   "cell_type": "code",
   "execution_count": 4,
   "metadata": {},
   "outputs": [],
   "source": [
    "# selct a preset of images:\n",
    "\n",
    "imgs_1 = noisy_imgs_1[:10000]/255\n",
    "imgs_2 = noisy_imgs_2[:10000]/255\n"
   ]
  },
  {
   "cell_type": "code",
   "execution_count": 56,
   "metadata": {},
   "outputs": [],
   "source": [
    "class Net(nn.Module):\n",
    "    \n",
    "    def __init__(self):\n",
    "        super().__init__()\n",
    "        \"\"\"\n",
    "        self.conv1 = nn.Conv2d(3, 10, kernel_size = 5, padding = (5 - 1) // 2)\n",
    "        self.conv2 = nn.Conv2d(10, 10, kernel_size = 5, padding = (5 - 1) // 2)\n",
    "        self.convT1 = nn.ConvTranspose2d(10, 3, kernel_size = 5, padding = (5 - 1) // 2)\n",
    "        \"\"\"\n",
    "        self.conv1 = nn.Conv2d(3, 10, kernel_size = 5, stride = 1)\n",
    "        self.conv2 = nn.Conv2d(10, 10, kernel_size = 4, stride = 2)\n",
    "        self.convT1 = nn.ConvTranspose2d(10, 10, kernel_size = 4, stride = 2)\n",
    "        self.convT2 = nn.ConvTranspose2d(10, 3, kernel_size = 5, stride = 1)\n",
    "        \n",
    "        self.dropout = nn.Dropout(p=0.4)\n",
    "        \n",
    "    def forward(self, x):\n",
    "        \n",
    "        x = F.relu(self.conv1(x))\n",
    "        x = self.dropout(F.relu(self.conv2(x)))\n",
    "        x = self.dropout(F.relu(self.convT1(x)))\n",
    "        x = F.sigmoid(self.convT2(x))\n",
    "\n",
    "        return x"
   ]
  },
  {
   "cell_type": "code",
   "execution_count": 57,
   "metadata": {},
   "outputs": [],
   "source": [
    "### For mini - project 1\n",
    "class Model(nn.Module):\n",
    "    \n",
    "    def __init__(self):\n",
    "    ## instantiate model + optimizer + loss function + any other stuff you need\n",
    "        super().__init__()\n",
    "        \n",
    "        self.device = torch.device (\"cuda\" if torch.cuda.is_available() else \"cpu\")\n",
    "        self.autoenc = Net().to(self.device)\n",
    "        self.criterion = nn.MSELoss()\n",
    "        self.optimizer = optim.Adam(self.autoenc.parameters(), lr = 1e-2)\n",
    "        \n",
    "        pass\n",
    "\n",
    "    def load_pretrained_model(self):\n",
    "    ## This loads the parameters saved in bestmodel .pth into the model\n",
    "        self.autoenc  = model.load_state_dict(torch.load('bestmodel.pth'),strict=False)\n",
    "        pass\n",
    "\n",
    "    def train(self , train_input , train_target , mini_batch_size):\n",
    "    #: train˙input : tensor of size (N, C, H, W) containing a noisy version of the images.\n",
    "\n",
    "        train_input, train_target = train_input.to(self.device), train_target.to(self.device) # Use GPU\n",
    "        \n",
    "        nb_epochs = 20\n",
    "        eta = 1e-1\n",
    "\n",
    "        for epoch in range(nb_epochs):\n",
    "            acc_loss = 0\n",
    "\n",
    "            for b in range(0, train_input.size(0), mini_batch_size):\n",
    "                output = self.autoenc(train_input.narrow(0, b, mini_batch_size))\n",
    "                loss = self.criterion(output, train_target.narrow(0, b, mini_batch_size))\n",
    "                acc_loss = acc_loss + loss.item()\n",
    "\n",
    "                #self.autoenc.zero_grad()\n",
    "                self.optimizer.zero_grad()\n",
    "                loss.backward()\n",
    "                self.optimizer.step()\n",
    "                \"\"\"\n",
    "                with torch.no_grad():\n",
    "                    for p in self.autoenc.parameters():\n",
    "                        p -= eta * p.grad\n",
    "                \"\"\"\n",
    "                        \n",
    "            if not epoch % 5: \n",
    "                print(epoch, acc_loss)\n",
    "\n",
    "    #: train˙target : tensor of size (N, C, H, W) containing another noisy version of the same images , which only differs from the input by their noise .\n",
    "        pass\n",
    "\n",
    "    def predict(self , test_input ):\n",
    "    #: test˙input : tensor of size (N1 , C, H, W) that has to be denoised by the trained or the loaded network .\n",
    "    #: returns a tensor of the size (N1 , C, H, W)\n",
    "    \n",
    "        torch.save(self.autoenc.state_dict(), 'bestmodel.pth')\n",
    "        output = self.autoenc(test_input)\n",
    "        \n",
    "        return output\n",
    "    \n",
    "    # Add a method \"load pretrained model\" to load the best model\n"
   ]
  },
  {
   "cell_type": "code",
   "execution_count": 58,
   "metadata": {},
   "outputs": [],
   "source": [
    "def psnr ( denoised , ground_truth ) :\n",
    "        # Peak Signal to Noise Ratio : denoised and ground_truth have range [0 , 1]\n",
    "        mse = torch.mean (( denoised - ground_truth ) ** 2)\n",
    "        return -10 * torch.log10 ( mse + 10** -8)"
   ]
  },
  {
   "cell_type": "code",
   "execution_count": 59,
   "metadata": {},
   "outputs": [
    {
     "name": "stdout",
     "output_type": "stream",
     "text": [
      "ici\n",
      "0 0.6866068318486214\n",
      "5 0.3797980770468712\n",
      "10 0.3367033414542675\n",
      "15 0.31753900088369846\n",
      "psnr tensor(17.0409, grad_fn=<MulBackward0>)\n"
     ]
    }
   ],
   "source": [
    "mini_batch_size = 1000\n",
    "\n",
    "model = Model()\n",
    "print('ici')\n",
    "model.train( imgs_1, imgs_2, mini_batch_size)\n",
    "\n",
    "out = model.predict(noisy_imgs)\n",
    "\n",
    "img_denoise_psnr = psnr(out ,clean_imgs )\n",
    "\n",
    "\n",
    "print(\"psnr\", img_denoise_psnr)\n"
   ]
  },
  {
   "cell_type": "code",
   "execution_count": 50,
   "metadata": {},
   "outputs": [
    {
     "name": "stdout",
     "output_type": "stream",
     "text": [
      "torch.Size([3, 32, 32])\n"
     ]
    },
    {
     "data": {
      "text/plain": [
       "Text(0.5, 1.0, 'predict')"
      ]
     },
     "execution_count": 50,
     "metadata": {},
     "output_type": "execute_result"
    },
    {
     "data": {
      "image/png": "[encoded data removed]",
      "text/plain": [
       "<Figure size 432x288 with 3 Axes>"
      ]
     },
     "metadata": {
      "needs_background": "light"
     },
     "output_type": "display_data"
    }
   ],
   "source": [
    "# AFFICHAGE\n",
    "print(out[1].shape)\n",
    "\"\"\"\n",
    "#print(clean_imgs[1])\n",
    "plt.imshow(clean_imgs[1].permute(1,2,0))\n",
    "plt.show()\n",
    "plt.imshow(out[1].permute(1,2,0).detach())\n",
    "plt.show()\n",
    "\"\"\"\n",
    "fig, axs = plt.subplots(1,3)\n",
    "\n",
    "axs[0].imshow(noisy_imgs[1].permute(1,2,0))\n",
    "axs[0].set_title('noisy')\n",
    "axs[1].imshow(clean_imgs[1].permute(1,2,0))\n",
    "axs[0].set_title('clean')\n",
    "axs[2].imshow(out[1].permute(1,2,0).detach())\n",
    "axs[0].set_title('predict')\n",
    "\n"
   ]
  },
  {
   "cell_type": "code",
   "execution_count": 51,
   "metadata": {},
   "outputs": [
    {
     "ename": "TypeError",
     "evalue": "cannot assign 'torch.nn.modules.module._IncompatibleKeys' as child module 'autoenc' (torch.nn.Module or None expected)",
     "output_type": "error",
     "traceback": [
      "\u001b[1;31m---------------------------------------------------------------------------\u001b[0m",
      "\u001b[1;31mTypeError\u001b[0m                                 Traceback (most recent call last)",
      "\u001b[1;32m<ipython-input-51-4feff4863378>\u001b[0m in \u001b[0;36m<module>\u001b[1;34m\u001b[0m\n\u001b[0;32m      1\u001b[0m \u001b[0mmodel_2\u001b[0m \u001b[1;33m=\u001b[0m \u001b[0mModel\u001b[0m\u001b[1;33m(\u001b[0m\u001b[1;33m)\u001b[0m\u001b[1;33m\u001b[0m\u001b[1;33m\u001b[0m\u001b[0m\n\u001b[1;32m----> 2\u001b[1;33m \u001b[0mmodel_2\u001b[0m\u001b[1;33m.\u001b[0m\u001b[0mload_pretrained_model\u001b[0m\u001b[1;33m(\u001b[0m\u001b[1;33m)\u001b[0m\u001b[1;33m\u001b[0m\u001b[1;33m\u001b[0m\u001b[0m\n\u001b[0m\u001b[0;32m      3\u001b[0m \u001b[0mout\u001b[0m \u001b[1;33m=\u001b[0m \u001b[0mmodel_2\u001b[0m\u001b[1;33m.\u001b[0m\u001b[0mpredict\u001b[0m\u001b[1;33m(\u001b[0m\u001b[0mnoisy_imgs\u001b[0m\u001b[1;33m)\u001b[0m\u001b[1;33m\u001b[0m\u001b[1;33m\u001b[0m\u001b[0m\n",
      "\u001b[1;32m<ipython-input-46-9bf0e1e232e8>\u001b[0m in \u001b[0;36mload_pretrained_model\u001b[1;34m(self)\u001b[0m\n\u001b[0;32m     15\u001b[0m     \u001b[1;32mdef\u001b[0m \u001b[0mload_pretrained_model\u001b[0m\u001b[1;33m(\u001b[0m\u001b[0mself\u001b[0m\u001b[1;33m)\u001b[0m\u001b[1;33m:\u001b[0m\u001b[1;33m\u001b[0m\u001b[1;33m\u001b[0m\u001b[0m\n\u001b[0;32m     16\u001b[0m     \u001b[1;31m## This loads the parameters saved in bestmodel .pth into the model\u001b[0m\u001b[1;33m\u001b[0m\u001b[1;33m\u001b[0m\u001b[1;33m\u001b[0m\u001b[0m\n\u001b[1;32m---> 17\u001b[1;33m         \u001b[0mself\u001b[0m\u001b[1;33m.\u001b[0m\u001b[0mautoenc\u001b[0m  \u001b[1;33m=\u001b[0m \u001b[0mmodel\u001b[0m\u001b[1;33m.\u001b[0m\u001b[0mload_state_dict\u001b[0m\u001b[1;33m(\u001b[0m\u001b[0mtorch\u001b[0m\u001b[1;33m.\u001b[0m\u001b[0mload\u001b[0m\u001b[1;33m(\u001b[0m\u001b[1;34m'bestmodel.pth'\u001b[0m\u001b[1;33m)\u001b[0m\u001b[1;33m,\u001b[0m\u001b[0mstrict\u001b[0m\u001b[1;33m=\u001b[0m\u001b[1;32mFalse\u001b[0m\u001b[1;33m)\u001b[0m\u001b[1;33m\u001b[0m\u001b[1;33m\u001b[0m\u001b[0m\n\u001b[0m\u001b[0;32m     18\u001b[0m         \u001b[1;32mpass\u001b[0m\u001b[1;33m\u001b[0m\u001b[1;33m\u001b[0m\u001b[0m\n\u001b[0;32m     19\u001b[0m \u001b[1;33m\u001b[0m\u001b[0m\n",
      "\u001b[1;32m~\\anaconda3\\lib\\site-packages\\torch\\nn\\modules\\module.py\u001b[0m in \u001b[0;36m__setattr__\u001b[1;34m(self, name, value)\u001b[0m\n\u001b[0;32m   1210\u001b[0m             \u001b[1;32melif\u001b[0m \u001b[0mmodules\u001b[0m \u001b[1;32mis\u001b[0m \u001b[1;32mnot\u001b[0m \u001b[1;32mNone\u001b[0m \u001b[1;32mand\u001b[0m \u001b[0mname\u001b[0m \u001b[1;32min\u001b[0m \u001b[0mmodules\u001b[0m\u001b[1;33m:\u001b[0m\u001b[1;33m\u001b[0m\u001b[1;33m\u001b[0m\u001b[0m\n\u001b[0;32m   1211\u001b[0m                 \u001b[1;32mif\u001b[0m \u001b[0mvalue\u001b[0m \u001b[1;32mis\u001b[0m \u001b[1;32mnot\u001b[0m \u001b[1;32mNone\u001b[0m\u001b[1;33m:\u001b[0m\u001b[1;33m\u001b[0m\u001b[1;33m\u001b[0m\u001b[0m\n\u001b[1;32m-> 1212\u001b[1;33m                     raise TypeError(\"cannot assign '{}' as child module '{}' \"\n\u001b[0m\u001b[0;32m   1213\u001b[0m                                     \u001b[1;34m\"(torch.nn.Module or None expected)\"\u001b[0m\u001b[1;33m\u001b[0m\u001b[1;33m\u001b[0m\u001b[0m\n\u001b[0;32m   1214\u001b[0m                                     .format(torch.typename(value), name))\n",
      "\u001b[1;31mTypeError\u001b[0m: cannot assign 'torch.nn.modules.module._IncompatibleKeys' as child module 'autoenc' (torch.nn.Module or None expected)"
     ]
    }
   ],
   "source": [
    "model_2 = Model()\n",
    "model_2.load_pretrained_model()\n",
    "out = model_2.predict(noisy_imgs)"
   ]
  },
  {
   "cell_type": "code",
   "execution_count": null,
   "metadata": {},
   "outputs": [],
   "source": []
  }
 ],
 "metadata": {
  "kernelspec": {
   "display_name": "Python 3",
   "language": "python",
   "name": "python3"
  },
  "language_info": {
   "codemirror_mode": {
    "name": "ipython",
    "version": 3
   },
   "file_extension": ".py",
   "mimetype": "text/x-python",
   "name": "python",
   "nbconvert_exporter": "python",
   "pygments_lexer": "ipython3",
   "version": "3.8.8"
  }
 },
 "nbformat": 4,
 "nbformat_minor": 2
}
