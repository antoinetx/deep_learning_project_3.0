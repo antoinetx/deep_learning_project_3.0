{
 "cells": [
  {
   "cell_type": "code",
   "execution_count": 94,
   "metadata": {},
   "outputs": [],
   "source": [
    "import torch\n",
    "from torch import nn\n",
    "from torch.nn import functional as F\n",
    "from torch import optim\n",
    "\n",
    "import matplotlib.pyplot as plt\n",
    "import matplotlib.image as mpimg\n",
    "\n",
    "import time\n",
    "\n"
   ]
  },
  {
   "cell_type": "code",
   "execution_count": null,
   "metadata": {},
   "outputs": [],
   "source": [
    "# Put on GPU\n",
    "\n",
    "device = torch.device (\"cuda\" if torch.cuda.is_available() else \"cpu\")"
   ]
  },
  {
   "cell_type": "code",
   "execution_count": 95,
   "metadata": {},
   "outputs": [
    {
     "name": "stdout",
     "output_type": "stream",
     "text": [
      "torch.Size([50000, 3, 32, 32])\n"
     ]
    }
   ],
   "source": [
    "# Extract images\n",
    "\n",
    "noisy_imgs_1 , noisy_imgs_2 = torch.load('train_data.pkl')\n",
    "noisy_imgs , clean_imgs = torch.load ('val_data.pkl')\n",
    "\n",
    "noisy_imgs = noisy_imgs/255\n",
    "clean_imgs = clean_imgs/255\n",
    "\n",
    "print(noisy_imgs_1.size())\n",
    "\n",
    "#plt.imshow(noisy_imgs[1].permute(1,2,0))\n",
    "#plt.show()\n",
    "#plt.imshow(clean_imgs[1].permute(1,2,0))\n",
    "#plt.show()\n",
    "\n",
    "#print(noisy_imgs_1[0,:,:,:])\n",
    "\n",
    "#plt.imshow(noisy_imgs[0,1])\n",
    "#plt.show()\n",
    "\n",
    "\n",
    "# Utiliser ADAM en optimizer (0.01)\n"
   ]
  },
  {
   "cell_type": "code",
   "execution_count": 96,
   "metadata": {},
   "outputs": [],
   "source": [
    "# selct a preset of images:\n",
    "\n",
    "imgs_1 = noisy_imgs_1[0:10000]/255\n",
    "imgs_2 = noisy_imgs_2[0:10000]/255"
   ]
  },
  {
   "cell_type": "code",
   "execution_count": 97,
   "metadata": {},
   "outputs": [],
   "source": [
    "class Net(nn.Module):\n",
    "            def __init__(self):\n",
    "                super().__init__()\n",
    "               \n",
    "                self.conv1 = nn.Conv2d(3,32,kernel_size=3,stride=1)\n",
    "                self.conv2 = nn.Conv2d(32,32,kernel_size=5,stride=1)\n",
    "                self.convT1 = nn.ConvTranspose2d(32,32,kernel_size=5,stride=1)\n",
    "                self.convT2 = nn.ConvTranspose2d(32,3,kernel_size=3,stride=1)\n",
    "                \"\"\"\n",
    "                self.conv1 = nn.Conv2d(3,32,kernel_size=2,stride=2)\n",
    "                self.conv3 = nn.Conv2d(32,32,kernel_size=2,stride=2)\n",
    "                self.convT1 = nn.ConvTranspose2d(32,32,kernel_size=2,stride=2)\n",
    "                self.convT3 = nn.ConvTranspose2d(64,3,kernel_size=2,stride=2)\n",
    "                \"\"\" \n",
    "            def forward(self, x):\n",
    "                \n",
    "                #print(\"1\", x.shape)\n",
    "                x = F.relu(self.conv1(x))\n",
    "                #print(\"2\", x.shape)\n",
    "                x = F.max_pool2d(x, 3)\n",
    "                #print(\"max_pool\", x.shape)\n",
    "                x = F.relu(self.conv2(x))\n",
    "                #print(\"conv2\", x.shape)\n",
    "                x = F.relu(self.convT1(x))\n",
    "                #print(\"conv_T_1\", x.shape)\n",
    "                x = F.upsample(x, size=None, scale_factor=3)\n",
    "                #print(\"up_sample\", x.shape)\n",
    "                # use sigmoid\n",
    "                x = F.sigmoid(self.convT2(x))\n",
    "                #print(\"conv_T_2\", x.shape)\n",
    "                \n",
    "                \"\"\"\n",
    "                print(\"1\", x.shape)\n",
    "                x = F.relu(self.conv1(x))\n",
    "                print(\"conv_1\", x.shape)\n",
    "                x = F.max_pool2d(x, 3)\n",
    "                print(\"pool_1\", x.shape)\n",
    "                x = F.upsample(x, size=None, scale_factor=2)\n",
    "                print(\"upsample_1\", x.shape)\n",
    "                \"\"\"\n",
    "                \"\"\"\n",
    "                x1 = F.leaky_relu(self.conv1(x))\n",
    "                x = F.leaky_relu(self.conv3(x1))\n",
    "                x = F.leaky_relu(self.convT1(x))\n",
    "                x = torch.cat((x,x1),1)\n",
    "                x = F.leaky_relu(self.convT3(x))\n",
    "                x = F.leaky_relu(x)\n",
    "                \"\"\"\n",
    "                return x"
   ]
  },
  {
   "cell_type": "code",
   "execution_count": 102,
   "metadata": {},
   "outputs": [],
   "source": [
    "### For mini - project 1\n",
    "\n",
    "\n",
    "\n",
    "class Model () :\n",
    "    def __init__( self ) -> None :\n",
    "    ## instantiate model + optimizer + loss function + any other stuff you need\n",
    "        \n",
    "        self.device = torch.device (\"cuda\" if torch.cuda.is_available() else \"cpu\")\n",
    "        self.autoenc = Net().to(self.device)\n",
    "        self.criterion = nn.MSELoss()\n",
    "        self.optimizer = optim.Adam(self.autoenc.parameters(), lr = 1e-2)\n",
    "        \n",
    "        pass\n",
    "\n",
    "    def load_pretrained_model(self) -> None :\n",
    "    ## This loads the parameters saved in bestmodel .pth into the model\n",
    "        pass\n",
    "\n",
    "    def train(self , train_input , train_target , mini_batch_size) -> None :\n",
    "    #: train˙input : tensor of size (N, C, H, W) containing a noisy version of the images.\n",
    "\n",
    "        \n",
    "        train_input, train_target = train_input.to(self.device), train_target.to(self.device) # Use GPU\n",
    "        \n",
    "        nb_epochs = 40\n",
    "        eta = 1e-1\n",
    "\n",
    "        for e in range(nb_epochs):\n",
    "            acc_loss = 0\n",
    "\n",
    "            for b in range(0, train_input.size(0), mini_batch_size):\n",
    "                output = self.autoenc(train_input.narrow(0, b, mini_batch_size))\n",
    "                loss = self.criterion(output, train_target.narrow(0, b, mini_batch_size))\n",
    "                acc_loss = acc_loss + loss.item()\n",
    "\n",
    "                self.autoenc.zero_grad()\n",
    "                loss.backward()\n",
    "                self.optimizer.step()\n",
    "\n",
    "                with torch.no_grad():\n",
    "                    for p in self.autoenc.parameters():\n",
    "                        p -= eta * p.grad\n",
    "\n",
    "            print(e, acc_loss)\n",
    "\n",
    "    #: train˙target : tensor of size (N, C, H, W) containing another noisy version of the same images , which only differs from the input by their noise .\n",
    "        pass\n",
    "\n",
    "    def predict(self , test_input ) -> torch.Tensor :\n",
    "    #: test˙input : tensor of size (N1 , C, H, W) that has to be denoised by the trained or the loaded network .\n",
    "    #: returns a tensor of the size (N1 , C, H, W)\n",
    "        output = self.autoenc(test_input)\n",
    "        \n",
    "        return output\n",
    "    \n",
    "    # Add a method \"load pretrained model\" to load the best model\n"
   ]
  },
  {
   "cell_type": "code",
   "execution_count": 103,
   "metadata": {},
   "outputs": [],
   "source": [
    "def psnr ( denoised , ground_truth ) :\n",
    "        # Peak Signal to Noise Ratio : denoised and ground_truth have range [0 , 1]\n",
    "        mse = torch.mean (( denoised - ground_truth ) ** 2)\n",
    "        return -10 * torch.log10 ( mse + 10** -8)"
   ]
  },
  {
   "cell_type": "code",
   "execution_count": 104,
   "metadata": {},
   "outputs": [
    {
     "data": {
      "text/plain": [
       "10000"
      ]
     },
     "execution_count": 104,
     "metadata": {},
     "output_type": "execute_result"
    }
   ],
   "source": [
    "imgs_1.shape[0]"
   ]
  },
  {
   "cell_type": "code",
   "execution_count": 105,
   "metadata": {},
   "outputs": [
    {
     "name": "stderr",
     "output_type": "stream",
     "text": [
      "/Users/antoine/opt/anaconda3/envs/deep_learning_env/lib/python3.9/site-packages/torch/nn/functional.py:3509: UserWarning: nn.functional.upsample is deprecated. Use nn.functional.interpolate instead.\n",
      "  warnings.warn(\"nn.functional.upsample is deprecated. Use nn.functional.interpolate instead.\")\n",
      "/Users/antoine/opt/anaconda3/envs/deep_learning_env/lib/python3.9/site-packages/torch/nn/functional.py:1806: UserWarning: nn.functional.sigmoid is deprecated. Use torch.sigmoid instead.\n",
      "  warnings.warn(\"nn.functional.sigmoid is deprecated. Use torch.sigmoid instead.\")\n"
     ]
    },
    {
     "name": "stdout",
     "output_type": "stream",
     "text": [
      "0 0.9249763339757919\n"
     ]
    },
    {
     "ename": "KeyboardInterrupt",
     "evalue": "",
     "output_type": "error",
     "traceback": [
      "\u001b[0;31m---------------------------------------------------------------------------\u001b[0m",
      "\u001b[0;31mKeyboardInterrupt\u001b[0m                         Traceback (most recent call last)",
      "\u001b[1;32m/Users/antoine/Desktop/EPFL/Master/Ma2/deep learning/Projet/Deep_learning_project/Miniproject_1/main3.0.ipynb Cell 9'\u001b[0m in \u001b[0;36m<cell line: 4>\u001b[0;34m()\u001b[0m\n\u001b[1;32m      <a href='vscode-notebook-cell:/Users/antoine/Desktop/EPFL/Master/Ma2/deep%20learning/Projet/Deep_learning_project/Miniproject_1/main3.0.ipynb#ch0000009?line=0'>1</a>\u001b[0m mini_batch_size \u001b[39m=\u001b[39m \u001b[39m1000\u001b[39m\n\u001b[1;32m      <a href='vscode-notebook-cell:/Users/antoine/Desktop/EPFL/Master/Ma2/deep%20learning/Projet/Deep_learning_project/Miniproject_1/main3.0.ipynb#ch0000009?line=2'>3</a>\u001b[0m model \u001b[39m=\u001b[39m Model()\n\u001b[0;32m----> <a href='vscode-notebook-cell:/Users/antoine/Desktop/EPFL/Master/Ma2/deep%20learning/Projet/Deep_learning_project/Miniproject_1/main3.0.ipynb#ch0000009?line=3'>4</a>\u001b[0m model\u001b[39m.\u001b[39;49mtrain( imgs_1, imgs_2, mini_batch_size)\n\u001b[1;32m      <a href='vscode-notebook-cell:/Users/antoine/Desktop/EPFL/Master/Ma2/deep%20learning/Projet/Deep_learning_project/Miniproject_1/main3.0.ipynb#ch0000009?line=5'>6</a>\u001b[0m out \u001b[39m=\u001b[39m model\u001b[39m.\u001b[39mpredict(noisy_imgs)\n\u001b[1;32m      <a href='vscode-notebook-cell:/Users/antoine/Desktop/EPFL/Master/Ma2/deep%20learning/Projet/Deep_learning_project/Miniproject_1/main3.0.ipynb#ch0000009?line=7'>8</a>\u001b[0m img_denoise_psnr \u001b[39m=\u001b[39m psnr(out ,clean_imgs )\n",
      "\u001b[1;32m/Users/antoine/Desktop/EPFL/Master/Ma2/deep learning/Projet/Deep_learning_project/Miniproject_1/main3.0.ipynb Cell 6'\u001b[0m in \u001b[0;36mModel.train\u001b[0;34m(self, train_input, train_target, mini_batch_size)\u001b[0m\n\u001b[1;32m     <a href='vscode-notebook-cell:/Users/antoine/Desktop/EPFL/Master/Ma2/deep%20learning/Projet/Deep_learning_project/Miniproject_1/main3.0.ipynb#ch0000005?line=29'>30</a>\u001b[0m acc_loss \u001b[39m=\u001b[39m \u001b[39m0\u001b[39m\n\u001b[1;32m     <a href='vscode-notebook-cell:/Users/antoine/Desktop/EPFL/Master/Ma2/deep%20learning/Projet/Deep_learning_project/Miniproject_1/main3.0.ipynb#ch0000005?line=31'>32</a>\u001b[0m \u001b[39mfor\u001b[39;00m b \u001b[39min\u001b[39;00m \u001b[39mrange\u001b[39m(\u001b[39m0\u001b[39m, train_input\u001b[39m.\u001b[39msize(\u001b[39m0\u001b[39m), mini_batch_size):\n\u001b[0;32m---> <a href='vscode-notebook-cell:/Users/antoine/Desktop/EPFL/Master/Ma2/deep%20learning/Projet/Deep_learning_project/Miniproject_1/main3.0.ipynb#ch0000005?line=32'>33</a>\u001b[0m     output \u001b[39m=\u001b[39m \u001b[39mself\u001b[39;49m\u001b[39m.\u001b[39;49mautoenc(train_input\u001b[39m.\u001b[39;49mnarrow(\u001b[39m0\u001b[39;49m, b, mini_batch_size))\n\u001b[1;32m     <a href='vscode-notebook-cell:/Users/antoine/Desktop/EPFL/Master/Ma2/deep%20learning/Projet/Deep_learning_project/Miniproject_1/main3.0.ipynb#ch0000005?line=33'>34</a>\u001b[0m     loss \u001b[39m=\u001b[39m \u001b[39mself\u001b[39m\u001b[39m.\u001b[39mcriterion(output, train_target\u001b[39m.\u001b[39mnarrow(\u001b[39m0\u001b[39m, b, mini_batch_size))\n\u001b[1;32m     <a href='vscode-notebook-cell:/Users/antoine/Desktop/EPFL/Master/Ma2/deep%20learning/Projet/Deep_learning_project/Miniproject_1/main3.0.ipynb#ch0000005?line=34'>35</a>\u001b[0m     acc_loss \u001b[39m=\u001b[39m acc_loss \u001b[39m+\u001b[39m loss\u001b[39m.\u001b[39mitem()\n",
      "File \u001b[0;32m~/opt/anaconda3/envs/deep_learning_env/lib/python3.9/site-packages/torch/nn/modules/module.py:1102\u001b[0m, in \u001b[0;36mModule._call_impl\u001b[0;34m(self, *input, **kwargs)\u001b[0m\n\u001b[1;32m   <a href='file:///Users/antoine/opt/anaconda3/envs/deep_learning_env/lib/python3.9/site-packages/torch/nn/modules/module.py?line=1097'>1098</a>\u001b[0m \u001b[39m# If we don't have any hooks, we want to skip the rest of the logic in\u001b[39;00m\n\u001b[1;32m   <a href='file:///Users/antoine/opt/anaconda3/envs/deep_learning_env/lib/python3.9/site-packages/torch/nn/modules/module.py?line=1098'>1099</a>\u001b[0m \u001b[39m# this function, and just call forward.\u001b[39;00m\n\u001b[1;32m   <a href='file:///Users/antoine/opt/anaconda3/envs/deep_learning_env/lib/python3.9/site-packages/torch/nn/modules/module.py?line=1099'>1100</a>\u001b[0m \u001b[39mif\u001b[39;00m \u001b[39mnot\u001b[39;00m (\u001b[39mself\u001b[39m\u001b[39m.\u001b[39m_backward_hooks \u001b[39mor\u001b[39;00m \u001b[39mself\u001b[39m\u001b[39m.\u001b[39m_forward_hooks \u001b[39mor\u001b[39;00m \u001b[39mself\u001b[39m\u001b[39m.\u001b[39m_forward_pre_hooks \u001b[39mor\u001b[39;00m _global_backward_hooks\n\u001b[1;32m   <a href='file:///Users/antoine/opt/anaconda3/envs/deep_learning_env/lib/python3.9/site-packages/torch/nn/modules/module.py?line=1100'>1101</a>\u001b[0m         \u001b[39mor\u001b[39;00m _global_forward_hooks \u001b[39mor\u001b[39;00m _global_forward_pre_hooks):\n\u001b[0;32m-> <a href='file:///Users/antoine/opt/anaconda3/envs/deep_learning_env/lib/python3.9/site-packages/torch/nn/modules/module.py?line=1101'>1102</a>\u001b[0m     \u001b[39mreturn\u001b[39;00m forward_call(\u001b[39m*\u001b[39;49m\u001b[39minput\u001b[39;49m, \u001b[39m*\u001b[39;49m\u001b[39m*\u001b[39;49mkwargs)\n\u001b[1;32m   <a href='file:///Users/antoine/opt/anaconda3/envs/deep_learning_env/lib/python3.9/site-packages/torch/nn/modules/module.py?line=1102'>1103</a>\u001b[0m \u001b[39m# Do not call functions when jit is used\u001b[39;00m\n\u001b[1;32m   <a href='file:///Users/antoine/opt/anaconda3/envs/deep_learning_env/lib/python3.9/site-packages/torch/nn/modules/module.py?line=1103'>1104</a>\u001b[0m full_backward_hooks, non_full_backward_hooks \u001b[39m=\u001b[39m [], []\n",
      "\u001b[1;32m/Users/antoine/Desktop/EPFL/Master/Ma2/deep learning/Projet/Deep_learning_project/Miniproject_1/main3.0.ipynb Cell 5'\u001b[0m in \u001b[0;36mNet.forward\u001b[0;34m(self, x)\u001b[0m\n\u001b[1;32m     <a href='vscode-notebook-cell:/Users/antoine/Desktop/EPFL/Master/Ma2/deep%20learning/Projet/Deep_learning_project/Miniproject_1/main3.0.ipynb#ch0000004?line=25'>26</a>\u001b[0m x \u001b[39m=\u001b[39m F\u001b[39m.\u001b[39mupsample(x, size\u001b[39m=\u001b[39m\u001b[39mNone\u001b[39;00m, scale_factor\u001b[39m=\u001b[39m\u001b[39m3\u001b[39m)\n\u001b[1;32m     <a href='vscode-notebook-cell:/Users/antoine/Desktop/EPFL/Master/Ma2/deep%20learning/Projet/Deep_learning_project/Miniproject_1/main3.0.ipynb#ch0000004?line=26'>27</a>\u001b[0m \u001b[39m#print(\"up_sample\", x.shape)\u001b[39;00m\n\u001b[1;32m     <a href='vscode-notebook-cell:/Users/antoine/Desktop/EPFL/Master/Ma2/deep%20learning/Projet/Deep_learning_project/Miniproject_1/main3.0.ipynb#ch0000004?line=27'>28</a>\u001b[0m \u001b[39m# use sigmoid\u001b[39;00m\n\u001b[0;32m---> <a href='vscode-notebook-cell:/Users/antoine/Desktop/EPFL/Master/Ma2/deep%20learning/Projet/Deep_learning_project/Miniproject_1/main3.0.ipynb#ch0000004?line=28'>29</a>\u001b[0m x \u001b[39m=\u001b[39m F\u001b[39m.\u001b[39msigmoid(\u001b[39mself\u001b[39;49m\u001b[39m.\u001b[39;49mconvT2(x))\n\u001b[1;32m     <a href='vscode-notebook-cell:/Users/antoine/Desktop/EPFL/Master/Ma2/deep%20learning/Projet/Deep_learning_project/Miniproject_1/main3.0.ipynb#ch0000004?line=29'>30</a>\u001b[0m \u001b[39m#print(\"conv_T_2\", x.shape)\u001b[39;00m\n\u001b[1;32m     <a href='vscode-notebook-cell:/Users/antoine/Desktop/EPFL/Master/Ma2/deep%20learning/Projet/Deep_learning_project/Miniproject_1/main3.0.ipynb#ch0000004?line=31'>32</a>\u001b[0m \u001b[39m\"\"\"\u001b[39;00m\n\u001b[1;32m     <a href='vscode-notebook-cell:/Users/antoine/Desktop/EPFL/Master/Ma2/deep%20learning/Projet/Deep_learning_project/Miniproject_1/main3.0.ipynb#ch0000004?line=32'>33</a>\u001b[0m \u001b[39mprint(\"1\", x.shape)\u001b[39;00m\n\u001b[1;32m     <a href='vscode-notebook-cell:/Users/antoine/Desktop/EPFL/Master/Ma2/deep%20learning/Projet/Deep_learning_project/Miniproject_1/main3.0.ipynb#ch0000004?line=33'>34</a>\u001b[0m \u001b[39mx = F.relu(self.conv1(x))\u001b[39;00m\n\u001b[0;32m   (...)\u001b[0m\n\u001b[1;32m     <a href='vscode-notebook-cell:/Users/antoine/Desktop/EPFL/Master/Ma2/deep%20learning/Projet/Deep_learning_project/Miniproject_1/main3.0.ipynb#ch0000004?line=38'>39</a>\u001b[0m \u001b[39mprint(\"upsample_1\", x.shape)\u001b[39;00m\n\u001b[1;32m     <a href='vscode-notebook-cell:/Users/antoine/Desktop/EPFL/Master/Ma2/deep%20learning/Projet/Deep_learning_project/Miniproject_1/main3.0.ipynb#ch0000004?line=39'>40</a>\u001b[0m \u001b[39m\"\"\"\u001b[39;00m\n",
      "File \u001b[0;32m~/opt/anaconda3/envs/deep_learning_env/lib/python3.9/site-packages/torch/nn/modules/module.py:1102\u001b[0m, in \u001b[0;36mModule._call_impl\u001b[0;34m(self, *input, **kwargs)\u001b[0m\n\u001b[1;32m   <a href='file:///Users/antoine/opt/anaconda3/envs/deep_learning_env/lib/python3.9/site-packages/torch/nn/modules/module.py?line=1097'>1098</a>\u001b[0m \u001b[39m# If we don't have any hooks, we want to skip the rest of the logic in\u001b[39;00m\n\u001b[1;32m   <a href='file:///Users/antoine/opt/anaconda3/envs/deep_learning_env/lib/python3.9/site-packages/torch/nn/modules/module.py?line=1098'>1099</a>\u001b[0m \u001b[39m# this function, and just call forward.\u001b[39;00m\n\u001b[1;32m   <a href='file:///Users/antoine/opt/anaconda3/envs/deep_learning_env/lib/python3.9/site-packages/torch/nn/modules/module.py?line=1099'>1100</a>\u001b[0m \u001b[39mif\u001b[39;00m \u001b[39mnot\u001b[39;00m (\u001b[39mself\u001b[39m\u001b[39m.\u001b[39m_backward_hooks \u001b[39mor\u001b[39;00m \u001b[39mself\u001b[39m\u001b[39m.\u001b[39m_forward_hooks \u001b[39mor\u001b[39;00m \u001b[39mself\u001b[39m\u001b[39m.\u001b[39m_forward_pre_hooks \u001b[39mor\u001b[39;00m _global_backward_hooks\n\u001b[1;32m   <a href='file:///Users/antoine/opt/anaconda3/envs/deep_learning_env/lib/python3.9/site-packages/torch/nn/modules/module.py?line=1100'>1101</a>\u001b[0m         \u001b[39mor\u001b[39;00m _global_forward_hooks \u001b[39mor\u001b[39;00m _global_forward_pre_hooks):\n\u001b[0;32m-> <a href='file:///Users/antoine/opt/anaconda3/envs/deep_learning_env/lib/python3.9/site-packages/torch/nn/modules/module.py?line=1101'>1102</a>\u001b[0m     \u001b[39mreturn\u001b[39;00m forward_call(\u001b[39m*\u001b[39;49m\u001b[39minput\u001b[39;49m, \u001b[39m*\u001b[39;49m\u001b[39m*\u001b[39;49mkwargs)\n\u001b[1;32m   <a href='file:///Users/antoine/opt/anaconda3/envs/deep_learning_env/lib/python3.9/site-packages/torch/nn/modules/module.py?line=1102'>1103</a>\u001b[0m \u001b[39m# Do not call functions when jit is used\u001b[39;00m\n\u001b[1;32m   <a href='file:///Users/antoine/opt/anaconda3/envs/deep_learning_env/lib/python3.9/site-packages/torch/nn/modules/module.py?line=1103'>1104</a>\u001b[0m full_backward_hooks, non_full_backward_hooks \u001b[39m=\u001b[39m [], []\n",
      "File \u001b[0;32m~/opt/anaconda3/envs/deep_learning_env/lib/python3.9/site-packages/torch/nn/modules/conv.py:923\u001b[0m, in \u001b[0;36mConvTranspose2d.forward\u001b[0;34m(self, input, output_size)\u001b[0m\n\u001b[1;32m    <a href='file:///Users/antoine/opt/anaconda3/envs/deep_learning_env/lib/python3.9/site-packages/torch/nn/modules/conv.py?line=917'>918</a>\u001b[0m \u001b[39m# One cannot replace List by Tuple or Sequence in \"_output_padding\" because\u001b[39;00m\n\u001b[1;32m    <a href='file:///Users/antoine/opt/anaconda3/envs/deep_learning_env/lib/python3.9/site-packages/torch/nn/modules/conv.py?line=918'>919</a>\u001b[0m \u001b[39m# TorchScript does not support `Sequence[T]` or `Tuple[T, ...]`.\u001b[39;00m\n\u001b[1;32m    <a href='file:///Users/antoine/opt/anaconda3/envs/deep_learning_env/lib/python3.9/site-packages/torch/nn/modules/conv.py?line=919'>920</a>\u001b[0m output_padding \u001b[39m=\u001b[39m \u001b[39mself\u001b[39m\u001b[39m.\u001b[39m_output_padding(\n\u001b[1;32m    <a href='file:///Users/antoine/opt/anaconda3/envs/deep_learning_env/lib/python3.9/site-packages/torch/nn/modules/conv.py?line=920'>921</a>\u001b[0m     \u001b[39minput\u001b[39m, output_size, \u001b[39mself\u001b[39m\u001b[39m.\u001b[39mstride, \u001b[39mself\u001b[39m\u001b[39m.\u001b[39mpadding, \u001b[39mself\u001b[39m\u001b[39m.\u001b[39mkernel_size, \u001b[39mself\u001b[39m\u001b[39m.\u001b[39mdilation)  \u001b[39m# type: ignore[arg-type]\u001b[39;00m\n\u001b[0;32m--> <a href='file:///Users/antoine/opt/anaconda3/envs/deep_learning_env/lib/python3.9/site-packages/torch/nn/modules/conv.py?line=922'>923</a>\u001b[0m \u001b[39mreturn\u001b[39;00m F\u001b[39m.\u001b[39;49mconv_transpose2d(\n\u001b[1;32m    <a href='file:///Users/antoine/opt/anaconda3/envs/deep_learning_env/lib/python3.9/site-packages/torch/nn/modules/conv.py?line=923'>924</a>\u001b[0m     \u001b[39minput\u001b[39;49m, \u001b[39mself\u001b[39;49m\u001b[39m.\u001b[39;49mweight, \u001b[39mself\u001b[39;49m\u001b[39m.\u001b[39;49mbias, \u001b[39mself\u001b[39;49m\u001b[39m.\u001b[39;49mstride, \u001b[39mself\u001b[39;49m\u001b[39m.\u001b[39;49mpadding,\n\u001b[1;32m    <a href='file:///Users/antoine/opt/anaconda3/envs/deep_learning_env/lib/python3.9/site-packages/torch/nn/modules/conv.py?line=924'>925</a>\u001b[0m     output_padding, \u001b[39mself\u001b[39;49m\u001b[39m.\u001b[39;49mgroups, \u001b[39mself\u001b[39;49m\u001b[39m.\u001b[39;49mdilation)\n",
      "\u001b[0;31mKeyboardInterrupt\u001b[0m: "
     ]
    }
   ],
   "source": [
    "mini_batch_size = 1000\n",
    "\n",
    "model = Model()\n",
    "model.train( imgs_1, imgs_2, mini_batch_size)\n",
    "\n",
    "out = model.predict(noisy_imgs)\n",
    "\n",
    "img_denoise_psnr = psnr(out ,clean_imgs )\n",
    "\n",
    "\n",
    "print(\"psnr\", img_denoise_psnr)\n",
    "\n"
   ]
  },
  {
   "cell_type": "code",
   "execution_count": 106,
   "metadata": {},
   "outputs": [
    {
     "ename": "AttributeError",
     "evalue": "'Model' object has no attribute 'state_dict'",
     "output_type": "error",
     "traceback": [
      "\u001b[0;31m---------------------------------------------------------------------------\u001b[0m",
      "\u001b[0;31mAttributeError\u001b[0m                            Traceback (most recent call last)",
      "\u001b[1;32m/Users/antoine/Desktop/EPFL/Master/Ma2/deep learning/Projet/Deep_learning_project/Miniproject_1/main3.0.ipynb Cell 10'\u001b[0m in \u001b[0;36m<cell line: 1>\u001b[0;34m()\u001b[0m\n\u001b[0;32m----> <a href='vscode-notebook-cell:/Users/antoine/Desktop/EPFL/Master/Ma2/deep%20learning/Projet/Deep_learning_project/Miniproject_1/main3.0.ipynb#ch0000016?line=0'>1</a>\u001b[0m model\u001b[39m.\u001b[39;49mstate_dict()\n",
      "\u001b[0;31mAttributeError\u001b[0m: 'Model' object has no attribute 'state_dict'"
     ]
    }
   ],
   "source": []
  },
  {
   "cell_type": "code",
   "execution_count": null,
   "metadata": {},
   "outputs": [],
   "source": [
    "print(clean_imgs)"
   ]
  },
  {
   "cell_type": "code",
   "execution_count": null,
   "metadata": {},
   "outputs": [],
   "source": [
    "# AFFICHAGE\n",
    "print(out[1].shape)\n",
    "\n",
    "#print(clean_imgs[1])\n",
    "plt.imshow(clean_imgs[1].permute(1,2,0))\n",
    "plt.show()\n",
    "plt.imshow(out[1].permute(1,2,0).detach())\n",
    "plt.show()\n"
   ]
  }
 ],
 "metadata": {
  "kernelspec": {
   "display_name": "Python 3 (ipykernel)",
   "language": "python",
   "name": "python3"
  },
  "language_info": {
   "codemirror_mode": {
    "name": "ipython",
    "version": 3
   },
   "file_extension": ".py",
   "mimetype": "text/x-python",
   "name": "python",
   "nbconvert_exporter": "python",
   "pygments_lexer": "ipython3",
   "version": "3.9.7"
  }
 },
 "nbformat": 4,
 "nbformat_minor": 2
}
