{
 "cells": [
  {
   "cell_type": "code",
   "execution_count": 7,
   "id": "d67a7a07",
   "metadata": {},
   "outputs": [],
   "source": [
    "import torch\n",
    "import math\n",
    "import torch\n",
    "from torch import empty , cat , arange\n",
    "from torch . nn . functional import fold , unfold\n",
    "\n",
    "#to delete\n",
    "from torch import nn"
   ]
  },
  {
   "cell_type": "code",
   "execution_count": 59,
   "id": "c28c71ea",
   "metadata": {},
   "outputs": [],
   "source": [
    "# Put on GPU\n",
    "device = torch.device (\"cuda\" if torch.cuda.is_available() else \"cpu\")"
   ]
  },
  {
   "cell_type": "code",
   "execution_count": 60,
   "id": "0b51e60a",
   "metadata": {},
   "outputs": [
    {
     "name": "stdout",
     "output_type": "stream",
     "text": [
      "torch.Size([1, 3, 32, 32])\n"
     ]
    }
   ],
   "source": [
    "# Extract images\n",
    "\n",
    "noisy_imgs_1 , noisy_imgs_2 = torch.load('data/train_data.pkl')\n",
    "noisy_imgs , clean_imgs = torch.load ('data/val_data.pkl')\n",
    "\n",
    "noisy_imgs = noisy_imgs/255\n",
    "clean_imgs = clean_imgs/255\n",
    "\n",
    "# select a preset of images:\n",
    "\n",
    "imgs_1 = noisy_imgs_1[:1]/255\n",
    "imgs_2 = noisy_imgs_2[:10000]/255\n",
    "print(imgs_1.shape)"
   ]
  },
  {
   "cell_type": "code",
   "execution_count": null,
   "id": "989dba85",
   "metadata": {},
   "outputs": [],
   "source": [
    "class ConvolutionTransposed(object):\n",
    "    def __init__(self, channels_input, channels_output, kernel_size, stride):\n",
    "        self.weight = torch.Tensor(channels_output, channels_input, kernel_size, kernel_size)\n",
    "        \n",
    "        self.channel_input = channels_input\n",
    "        #print('input channels', self.channel_input)\n",
    "        self.kernel_size = kernel_size\n",
    "        self.stride = stride\n",
    "        \n",
    "        #print('weight',self.weight.shape)\n",
    "        \n",
    "        \n",
    "    def forward(self, imgs):\n",
    "        #print('forward')\n",
    "        _,_,H,W = imgs.shape\n",
    "        H_out = (H - 1)*self.stride + self.kernel_size \n",
    "        W_out = (W - 1)*self.stride + self.kernel_size \n",
    "        \n",
    "        #print('Hout Wout', H_out, W_out)\n",
    "        \n",
    "        self.x = imgs.permute(1, 2, 3, 0).reshape(self.channel_input, -1)\n",
    "        #print('x',self.x.shape)\n",
    "        self.y = (self.weight.reshape(self.channel_input, -1)).t().matmul(self.x)\n",
    "        #print('y',self.y.shape)\n",
    "        self.y = self.y.reshape(self.y.shape[0], -1, imgs.shape[0])\n",
    "        #print('y2',self.y.shape)\n",
    "        self.y = self.y.permute(2, 0, 1)\n",
    "        \n",
    "        #print(self.y.shape)\n",
    "        self.y = fold( self.y, (H_out, W_out), kernel_size=(self.kernel_size,self.kernel_size), stride=self.stride)\n",
    "        \n",
    "        return self.y"
   ]
  },
  {
   "cell_type": "code",
   "execution_count": 129,
   "id": "93dfc7dd",
   "metadata": {},
   "outputs": [],
   "source": [
    "class Convolution(object):\n",
    "    def __init__(self, channels_input, channels_output, kernel_size, stride):\n",
    "        \n",
    "        self.weight = torch.Tensor(channels_output, channels_input, kernel_size, kernel_size)\n",
    "        self.kernel_size = kernel_size\n",
    "        self.stride = stride\n",
    "        \n",
    "        #print(self.weight.shape)\n",
    "        \n",
    "        \n",
    "    def forward(self, imgs):\n",
    "        \n",
    "        _,_,H,W = imgs.shape\n",
    "        #print('h w ',H,W)\n",
    "        self.Hout = (H - self.kernel_size)/self.stride + 1\n",
    "        self.Wout = (H - self.kernel_size)/self.stride + 1\n",
    "        #print('Hout Wout', self.Hout, self.Wout)\n",
    "        \n",
    "        self.x = unfold(imgs, kernel_size = (self.kernel_size, self.kernel_size), stride = self.stride)\n",
    "        #print('x',self.x.shape)\n",
    "        self.y = self.x.transpose(1, 2).matmul(self.weight.view(self.weight.size(0), -1).t()).transpose(1, 2)\n",
    "        #print('y',self.y.shape)\n",
    "        self.y = fold(self.y, (int(self.Hout), int(self.Wout)),(1,1), stride = 1)\n",
    "        \n",
    "        return self.y\n",
    "    \n",
    "\n",
    "    def backward(self):\n",
    "        return None\n",
    "\n",
    "    def param(self):\n",
    "        return None\n"
   ]
  },
  {
   "cell_type": "code",
   "execution_count": 130,
   "id": "d60eb8bb",
   "metadata": {},
   "outputs": [],
   "source": [
    "class Net(object):\n",
    "    def __init__(self):\n",
    "        self.conv1 = Convolution(3, 10, kernel_size = 4, stride = 2) # tensor(1,10,15,15)\n",
    "        self.conv2 = Convolution(10, 10, kernel_size = 5, stride = 2) # tensor (1,10,6,6)\n",
    "        self.convT1 = ConvolutionTransposed(10, 10, kernel_size = 5, stride = 2)\n",
    "        self.convT2 = ConvolutionTransposed(10, 32, kernel_size = 4, stride = 2)\n",
    "        \n",
    "    def forward(self,x):\n",
    "        print(x.shape)\n",
    "        y = self.conv1.forward(x)\n",
    "        print(y.shape)\n",
    "        y = self.conv2.forward(y)\n",
    "        print(y.shape)\n",
    "        y = self.convT1.forward(y)\n",
    "        print(y.shape)\n",
    "        y = self.convT2.forward(y)\n",
    "        print(y.shape)\n",
    "        \n",
    "        return y\n",
    "\n",
    "    def backward (self, *gradwrtoutput ) :\n",
    "        return None\n",
    "\n",
    "    "
   ]
  },
  {
   "cell_type": "code",
   "execution_count": 133,
   "id": "bf7763e2",
   "metadata": {},
   "outputs": [
    {
     "name": "stdout",
     "output_type": "stream",
     "text": [
      "torch.Size([1, 3, 32, 32])\n",
      "torch.Size([1, 10, 15, 15])\n",
      "torch.Size([1, 10, 6, 6])\n",
      "torch.Size([1, 10, 15, 15])\n",
      "torch.Size([1, 32, 32, 32])\n"
     ]
    }
   ],
   "source": [
    "model = Net()\n",
    "\n",
    "\n",
    "x = torch.ones(1,3,32,32)\n",
    "\n",
    "\n",
    "y = model.forward(x)\n"
   ]
  },
  {
   "cell_type": "code",
   "execution_count": 131,
   "id": "3e7272fe",
   "metadata": {},
   "outputs": [],
   "source": []
  },
  {
   "cell_type": "code",
   "execution_count": 124,
   "id": "baf74bf7",
   "metadata": {},
   "outputs": [
    {
     "name": "stdout",
     "output_type": "stream",
     "text": [
      "input channels 10\n",
      "weight torch.Size([10, 10, 5, 5])\n",
      "input channels 10\n",
      "weight torch.Size([3, 10, 4, 4])\n",
      "forward\n",
      "Hout Wout 15 15\n",
      "x torch.Size([10, 36])\n",
      "y torch.Size([250, 36])\n",
      "y2 torch.Size([250, 36, 1])\n",
      "torch.Size([1, 250, 36])\n",
      "torch.Size([1, 10, 15, 15])\n",
      "forward\n",
      "Hout Wout 32 32\n",
      "x torch.Size([10, 225])\n",
      "y torch.Size([48, 225])\n",
      "y2 torch.Size([48, 225, 1])\n",
      "torch.Size([1, 48, 225])\n",
      "torch.Size([1, 3, 32, 32])\n"
     ]
    }
   ],
   "source": [
    "x = torch.ones(1,10,6,6)\n",
    "#tensor (1,10,6,6)\n",
    "\n",
    "convT1 = ConvolutionTransposed(10, 10, kernel_size = 5, stride = 2)\n",
    "convT2 = ConvolutionTransposed(10, 3, kernel_size = 4, stride = 2)\n",
    "\n",
    "y = convT1.forward(x)\n",
    "print(y.shape)\n",
    "y = convT2.forward(y)\n",
    "print(y.shape)"
   ]
  },
  {
   "cell_type": "code",
   "execution_count": null,
   "id": "1320e537",
   "metadata": {},
   "outputs": [],
   "source": []
  }
 ],
 "metadata": {
  "kernelspec": {
   "display_name": "Python 3",
   "language": "python",
   "name": "python3"
  },
  "language_info": {
   "codemirror_mode": {
    "name": "ipython",
    "version": 3
   },
   "file_extension": ".py",
   "mimetype": "text/x-python",
   "name": "python",
   "nbconvert_exporter": "python",
   "pygments_lexer": "ipython3",
   "version": "3.8.8"
  }
 },
 "nbformat": 4,
 "nbformat_minor": 5
}
