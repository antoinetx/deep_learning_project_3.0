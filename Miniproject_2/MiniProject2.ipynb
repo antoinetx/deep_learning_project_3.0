{
 "cells": [
  {
   "cell_type": "code",
   "execution_count": 1,
   "id": "d67a7a07",
   "metadata": {},
   "outputs": [],
   "source": [
    "import math\n",
    "import torch\n",
    "from torch import empty , cat , arange\n",
    "from torch . nn . functional import fold , unfold\n",
    "\n",
    "#to delete\n",
    "from torch import nn\n",
    "from others.modules import *\n"
   ]
  },
  {
   "cell_type": "code",
   "execution_count": 22,
   "id": "c28c71ea",
   "metadata": {},
   "outputs": [],
   "source": [
    "# Put on GPU\n",
    "device = torch.device (\"cuda\" if torch.cuda.is_available() else \"cpu\")"
   ]
  },
  {
   "cell_type": "code",
   "execution_count": 23,
   "id": "0b51e60a",
   "metadata": {},
   "outputs": [
    {
     "name": "stdout",
     "output_type": "stream",
     "text": [
      "torch.Size([1, 3, 32, 32])\n"
     ]
    }
   ],
   "source": [
    "# Extract images\n",
    "\n",
    "noisy_imgs_1 , noisy_imgs_2 = torch.load('data/train_data.pkl')\n",
    "noisy_imgs , clean_imgs = torch.load ('data/val_data.pkl')\n",
    "\n",
    "noisy_imgs = noisy_imgs/255\n",
    "clean_imgs = clean_imgs/255\n",
    "\n",
    "# select a preset of images:\n",
    "\n",
    "imgs_1 = noisy_imgs_1[:1]/255\n",
    "imgs_2 = noisy_imgs_2[:10000]/255\n",
    "print(imgs_1.shape)"
   ]
  },
  {
   "cell_type": "code",
   "execution_count": 2,
   "id": "6bfe40ca",
   "metadata": {},
   "outputs": [],
   "source": [
    "class Model(object):\n",
    "    def __init__(self):\n",
    "        self.sequence = Sequential(Convolution(3, 3, kernel_size = 2, stride = 2),\n",
    "                                    ReLU(),\n",
    "                                    Upsample(2),\n",
    "                                    Sigmoid())\n",
    "\n",
    "        self.criterion = MSE()\n",
    "        print('Model class initialisation')\n",
    "\n",
    "    def train(self,train_input,train_target):\n",
    "    \n",
    "        predict_img = self.sequence.forward(train_input)\n",
    "        loss = self.criterion.forward(predict_img, train_target)\n",
    "\n",
    "        backward_img = self.sequence.backward(img)\n",
    "\n",
    "        return backward_img\n",
    "        "
   ]
  },
  {
   "cell_type": "code",
   "execution_count": 3,
   "id": "b05f8fd7",
   "metadata": {
    "scrolled": false
   },
   "outputs": [
    {
     "name": "stdout",
     "output_type": "stream",
     "text": [
      "Model class initialisation\n",
      "<others.modules.Convolution object at 0x00000298AD0D9AF0>\n",
      "<others.modules.ReLU object at 0x00000298AD0D9B20>\n",
      "<others.modules.Upsample object at 0x00000298AD0D9C10>\n",
      "<others.modules.Sigmoid object at 0x00000298AD0D9D30>\n",
      "<others.modules.Sigmoid object at 0x00000298AD0D9D30>\n",
      "<others.modules.Upsample object at 0x00000298AD0D9C10>\n",
      "<others.modules.ReLU object at 0x00000298AD0D9B20>\n",
      "<others.modules.Convolution object at 0x00000298AD0D9AF0>\n",
      "torch.Size([1, 3, 32, 32])\n"
     ]
    }
   ],
   "source": [
    "img = torch.randn(1, 3, 32, 32)\n",
    "img_error = torch.randn(1, 3, 32, 32)\n",
    "\n",
    "model = Model()\n",
    "\n",
    "output = model.train(img, img_error)\n",
    "\n",
    "print(output.shape)\n",
    "\n"
   ]
  }
 ],
 "metadata": {
  "kernelspec": {
   "display_name": "Python 3",
   "language": "python",
   "name": "python3"
  },
  "language_info": {
   "codemirror_mode": {
    "name": "ipython",
    "version": 3
   },
   "file_extension": ".py",
   "mimetype": "text/x-python",
   "name": "python",
   "nbconvert_exporter": "python",
   "pygments_lexer": "ipython3",
   "version": "3.8.8"
  }
 },
 "nbformat": 4,
 "nbformat_minor": 5
}
