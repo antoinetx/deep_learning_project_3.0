{
 "cells": [
  {
   "cell_type": "code",
   "execution_count": 1,
   "id": "d67a7a07",
   "metadata": {},
   "outputs": [],
   "source": [
    "import torch\n",
    "import math\n",
    "import torch\n",
    "from torch import empty , cat , arange\n",
    "from torch . nn . functional import fold , unfold\n",
    "\n",
    "#to delete\n",
    "#from torch import nn"
   ]
  },
  {
   "cell_type": "code",
   "execution_count": 3,
   "id": "9c8d8983",
   "metadata": {},
   "outputs": [],
   "source": [
    "# Convolution is equivalent with Unfold + Matrix Multiplication + Fold (or view to output shape)\n",
    "\n",
    "inp = torch.randn(1, 3, 10, 12)\n",
    "w = torch.randn(2, 3, 4, 5)\n",
    "inp_unf = torch.nn.functional.unfold(inp, (4, 5))\n",
    "out_unf = inp_unf.transpose(1, 2).matmul(w.view(w.size(0), -1).t()).transpose(1, 2)\n",
    "out = torch.nn.functional.fold(out_unf, (7, 8), (1, 1))"
   ]
  },
  {
   "cell_type": "code",
   "execution_count": 72,
   "id": "9d290546",
   "metadata": {},
   "outputs": [
    {
     "data": {
      "text/plain": [
       "\"   \\nclass ConvolutionTransposed(object):\\n    def __init__(self, channels_input, channels_output, kernel_size, stride):\\n        self.weight = torch.empty(channels_output, channels_input, kernel_size, kernel_size).normal_()\\n        \\n        self.channel_input = channels_input\\n        #print('input channels', self.channel_input)\\n        self.kernel_size = kernel_size\\n        self.stride = stride\\n        \\n        print('weight',self.weight.shape)\\n        \\n        \\n    def forward(self, imgs):\\n        #print('forward')\\n        _,_,H,W = imgs.shape\\n        H_out = (H - 1)*self.stride + self.kernel_size \\n        W_out = (W - 1)*self.stride + self.kernel_size \\n        \\n        #print('Hout Wout', H_out, W_out)\\n        \\n        self.x = imgs.permute(1, 2, 3, 0).reshape(self.channel_input, -1)\\n        #print('x',self.x.shape)\\n        self.y = (self.weight.reshape(self.channel_input, -1)).t().matmul(self.x)\\n        #print('y',self.y.shape)\\n        self.y = self.y.reshape(self.y.shape[0], -1, imgs.shape[0])\\n        #print('y2',self.y.shape)\\n        self.y = self.y.permute(2, 0, 1)\\n        \\n        #print(self.y.shape)\\n        self.y = fold( self.y, (H_out, W_out), kernel_size=(self.kernel_size,self.kernel_size), stride=self.stride)\\n        \\n        return self.y\\n\""
      ]
     },
     "execution_count": 72,
     "metadata": {},
     "output_type": "execute_result"
    }
   ],
   "source": [
    "\"\"\"   \n",
    "class ConvolutionTransposed(object):\n",
    "    def __init__(self, channels_input, channels_output, kernel_size, stride):\n",
    "        self.weight = torch.empty(channels_output, channels_input, kernel_size, kernel_size).normal_()\n",
    "        \n",
    "        self.channel_input = channels_input\n",
    "        #print('input channels', self.channel_input)\n",
    "        self.kernel_size = kernel_size\n",
    "        self.stride = stride\n",
    "        \n",
    "        print('weight',self.weight.shape)\n",
    "        \n",
    "        \n",
    "    def forward(self, imgs):\n",
    "        #print('forward')\n",
    "        _,_,H,W = imgs.shape\n",
    "        H_out = (H - 1)*self.stride + self.kernel_size \n",
    "        W_out = (W - 1)*self.stride + self.kernel_size \n",
    "        \n",
    "        #print('Hout Wout', H_out, W_out)\n",
    "        \n",
    "        self.x = imgs.permute(1, 2, 3, 0).reshape(self.channel_input, -1)\n",
    "        #print('x',self.x.shape)\n",
    "        self.y = (self.weight.reshape(self.channel_input, -1)).t().matmul(self.x)\n",
    "        #print('y',self.y.shape)\n",
    "        self.y = self.y.reshape(self.y.shape[0], -1, imgs.shape[0])\n",
    "        #print('y2',self.y.shape)\n",
    "        self.y = self.y.permute(2, 0, 1)\n",
    "        \n",
    "        #print(self.y.shape)\n",
    "        self.y = fold( self.y, (H_out, W_out), kernel_size=(self.kernel_size,self.kernel_size), stride=self.stride)\n",
    "        \n",
    "        return self.y\n",
    "\"\"\""
   ]
  },
  {
   "cell_type": "code",
   "execution_count": 3,
   "id": "4dae7d6f",
   "metadata": {},
   "outputs": [],
   "source": [
    "class ConvolutionTransposed(object):\n",
    "    def __init__(self,channels_input, channels_output, kernel_size, stride):\n",
    "        self.device = torch.device (\"cuda\" if torch.cuda.is_available() else \"cpu\")\n",
    "        \n",
    "        self.weight = torch.empty(channels_output, channels_input, kernel_size, kernel_size).normal_() \n",
    "        \n",
    "        self.kernel_size = kernel_size\n",
    "        self.stride = stride\n",
    "        self.channels_output = channels_output\n",
    "        self.channels_input = channels_input\n",
    "        \n",
    "    def forward(self,x):\n",
    "        \n",
    "        B,I,SI,SI = x.shape\n",
    "        SO = (SI -1)*self.stride + self.kernel_size\n",
    "        self.x = x\n",
    "        self.x_reshape = self.x.reshape(B,I,-1) # [B,I,SI,SI]\n",
    "        self.weight_reshape = self.weight.permute(1,0,2,3).reshape(I,-1) # [I,(OxKxK)]\n",
    "        \n",
    "        self.y_reshape = self.weight_reshape.T @ self.x_reshape # [B, OxKxK, SIxSI]\n",
    "        print('y', self.y_reshape.shape)\n",
    "        \n",
    "        self.y = fold(self.y_reshape, kernel_size =(self.kernel_size,self.kernel_size), stride = self.stride, output_size=(SO,SO))\n",
    "        \n",
    "        return self.y\n",
    "    \n",
    "    def backward(self,gradwrtoutput):\n",
    "        \n",
    "        dL_dS = gradwrtoutput # [B, O, SO, SO]\n",
    "        dS_dX = self.weight # [O,I,K,K]\n",
    "        \n",
    "        #backward Input\n",
    "        dL_dS _reshape = dL_dS.reshape(1, self.channels_output, -1)\n",
    "        dS_dX_reshape = dS_dX.permute(1,0,2,3).reshape(self.channels_output,)\n",
    "        dL_dX = dL\n",
    "        \n"
   ]
  },
  {
   "cell_type": "code",
   "execution_count": 4,
   "id": "b601694a",
   "metadata": {},
   "outputs": [
    {
     "name": "stdout",
     "output_type": "stream",
     "text": [
      "y torch.Size([1, 75, 784])\n",
      "torch.Size([1, 3, 32, 32])\n"
     ]
    }
   ],
   "source": [
    "img = torch.randn(1, 3, 28,28)\n",
    "img_error = torch.randn(1, 3, 32, 32)\n",
    "\n",
    "convT1 = ConvolutionTransposed(3,3,5,1)\n",
    "\n",
    "out = convT1.forward(img)\n",
    "\n",
    "print(out.shape)\n",
    "\n"
   ]
  },
  {
   "cell_type": "code",
   "execution_count": null,
   "id": "fb7dc5d0",
   "metadata": {},
   "outputs": [],
   "source": []
  }
 ],
 "metadata": {
  "kernelspec": {
   "display_name": "Python 3",
   "language": "python",
   "name": "python3"
  },
  "language_info": {
   "codemirror_mode": {
    "name": "ipython",
    "version": 3
   },
   "file_extension": ".py",
   "mimetype": "text/x-python",
   "name": "python",
   "nbconvert_exporter": "python",
   "pygments_lexer": "ipython3",
   "version": "3.8.8"
  }
 },
 "nbformat": 4,
 "nbformat_minor": 5
}
